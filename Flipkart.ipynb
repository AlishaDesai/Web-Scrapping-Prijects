{
 "cells": [
  {
   "cell_type": "raw",
   "id": "d6f2267a",
   "metadata": {},
   "source": [
    "Web Scrapping"
   ]
  },
  {
   "cell_type": "code",
   "execution_count": 1,
   "id": "df3068a7",
   "metadata": {},
   "outputs": [
    {
     "data": {
      "text/plain": [
       "7"
      ]
     },
     "execution_count": 1,
     "metadata": {},
     "output_type": "execute_result"
    }
   ],
   "source": [
    "urls = [\"https://www.flipkart.com/mi-4a-pro-80-cm-32-inch-hd-ready-led-smart-android-tv/p/itmfdwh5jyqhmvzg?pid=TVSG22C4DXQRVSTT&lid=LSTTVSG22C4DXQRVSTTJZD2M0&marketplace=FLIPKART&fm=neo%2Fmerchandising&iid=M_721a23bc-4529-4add-aba2-b17ab4ecb8ad_3_AAEAKI64SH3E_MC.TVSG22C4DXQRVSTT&ppt=None&ppn=None&ssid=z324a1n6ww0000001625899367753&otracker=clp_pmu_v2_32%2BInch%2BTVs_1_3.productCard.PMU_V2_Mi%2B4A%2BPRO%2B80%2Bcm%2B%252832%2Binch%2529%2BHD%2BReady%2BLED%2BSmart%2BAndroid%2BTV_television-store_TVSG22C4DXQRVSTT_neo%2Fmerchandising_0&otracker1=clp_pmu_v2_PINNED_neo%2Fmerchandising_32%2BInch%2BTVs_LIST_productCard_cc_1_NA_view-all&cid=TVSG22C4DXQRVSTT\", \"https://www.flipkart.com/realme-80-cm-32-inch-hd-ready-led-smart-android-tv/p/itm56d1cf16da75b?pid=TVSFRTJQTZVKTF6Y&lid=LSTTVSFRTJQTZVKTF6YTYQNP6&marketplace=FLIPKART&fm=neo%2Fmerchandising&iid=M_721a23bc-4529-4add-aba2-b17ab4ecb8ad_3_AAEAKI64SH3E_MC.TVSFRTJQTZVKTF6Y&ppt=None&ppn=None&ssid=z324a1n6ww0000001625899367753&otracker=clp_pmu_v2_32%2BInch%2BTVs_2_3.productCard.PMU_V2_realme%2B80%2Bcm%2B%252832%2Binch%2529%2BHD%2BReady%2BLED%2BSmart%2BAndroid%2BTV_television-store_TVSFRTJQTZVKTF6Y_neo%2Fmerchandising_1&otracker1=clp_pmu_v2_PINNED_neo%2Fmerchandising_32%2BInch%2BTVs_LIST_productCard_cc_2_NA_view-all&cid=TVSFRTJQTZVKTF6Y\",\"https://www.flipkart.com/samsung-80-cm-32-inch-hd-ready-led-smart-tv-2020/p/itma5db0294e13fe?pid=TVSFQXFKMHUDYCJ3&lid=LSTTVSFQXFKMHUDYCJ3IOJXHJ&marketplace=FLIPKART&fm=neo%2Fmerchandising&iid=M_721a23bc-4529-4add-aba2-b17ab4ecb8ad_3_AAEAKI64SH3E_MC.TVSFQXFKMHUDYCJ3&ppt=None&ppn=None&ssid=z324a1n6ww0000001625899367753&otracker=clp_pmu_v2_32%2BInch%2BTVs_3_3.productCard.PMU_V2_SAMSUNG%2B80%2Bcm%2B%252832%2Binch%2529%2BHD%2BReady%2BLED%2BSmart%2BTV%2B2020%2BEdition_television-store_TVSFQXFKMHUDYCJ3_neo%2Fmerchandising_2&otracker1=clp_pmu_v2_PINNED_neo%2Fmerchandising_32%2BInch%2BTVs_LIST_productCard_cc_3_NA_view-all&cid=TVSFQXFKMHUDYCJ3\",\"https://www.flipkart.com/lg-80-cm-32-inch-hd-ready-led-smart-tv-2020/p/itm6207e6d122567?pid=TVSFTW4CSRW8PGDQ&lid=LSTTVSFTW4CSRW8PGDQSZQIO6&marketplace=FLIPKART&fm=neo%2Fmerchandising&iid=M_721a23bc-4529-4add-aba2-b17ab4ecb8ad_3_AAEAKI64SH3E_MC.TVSFTW4CSRW8PGDQ&ppt=None&ppn=None&ssid=z324a1n6ww0000001625899367753&otracker=clp_pmu_v2_32%2BInch%2BTVs_4_3.productCard.PMU_V2_LG%2B80%2Bcm%2B%252832%2Binch%2529%2BHD%2BReady%2BLED%2BSmart%2BTV%2B2020%2BEdition_television-store_TVSFTW4CSRW8PGDQ_neo%2Fmerchandising_3&otracker1=clp_pmu_v2_PINNED_neo%2Fmerchandising_32%2BInch%2BTVs_LIST_productCard_cc_4_NA_view-all&cid=TVSFTW4CSRW8PGDQ\",\"https://www.flipkart.com/infinix-x1-80-cm-32-inch-hd-ready-led-smart-android-tv-eye-care-technology/p/itm98fced15e8983?pid=TVSFXZX7XRZASJYM&lid=LSTTVSFXZX7XRZASJYMQI9BXC&marketplace=FLIPKART&fm=neo%2Fmerchandising&iid=M_721a23bc-4529-4add-aba2-b17ab4ecb8ad_3_AAEAKI64SH3E_MC.TVSFXZX7XRZASJYM&ppt=None&ppn=None&ssid=z324a1n6ww0000001625899367753&otracker=clp_pmu_v2_32%2BInch%2BTVs_5_3.productCard.PMU_V2_Infinix%2BX1%2B80%2Bcm%2B%252832%2Binch%2529%2BHD%2BReady%2BLED%2BSmart%2BAndroid%2BTV%2Bwith%2BEye%2BCare%2BTechnology_television-store_TVSFXZX7XRZASJYM_neo%2Fmerchandising_4&otracker1=clp_pmu_v2_PINNED_neo%2Fmerchandising_32%2BInch%2BTVs_LIST_productCard_cc_5_NA_view-all&cid=TVSFXZX7XRZASJYM\",\"https://www.flipkart.com/samsung-80-cm-32-inch-hd-ready-led-smart-tv-2020-voice-search/p/itm658a141f24b21?pid=TVSFYN6HKXKADS3F&lid=LSTTVSFYN6HKXKADS3FFHONWS&marketplace=FLIPKART&fm=neo%2Fmerchandising&iid=M_721a23bc-4529-4add-aba2-b17ab4ecb8ad_3_AAEAKI64SH3E_MC.TVSFYN6HKXKADS3F&ppt=None&ppn=None&ssid=z324a1n6ww0000001625899367753&otracker=clp_pmu_v2_32%2BInch%2BTVs_6_3.productCard.PMU_V2_SAMSUNG%2B80%2Bcm%2B%252832%2Binch%2529%2BHD%2BReady%2BLED%2BSmart%2BTV%2B2020%2BEdition%2Bwith%2BVoice%2BSearch_television-store_TVSFYN6HKXKADS3F_neo%2Fmerchandising_5&otracker1=clp_pmu_v2_PINNED_neo%2Fmerchandising_32%2BInch%2BTVs_LIST_productCard_cc_6_NA_view-all&cid=TVSFYN6HKXKADS3F\",\"https://www.flipkart.com/mi-4a-pro-80-cm-32-inch-hd-ready-led-smart-android-tv/p/itmfdwh5jyqhmvzg?pid=TVSG22C4DXQRVSTT&lid=LSTTVSG22C4DXQRVSTTJZD2M0&marketplace=FLIPKART&fm=neo%2Fmerchandising&iid=M_721a23bc-4529-4add-aba2-b17ab4ecb8ad_3_AAEAKI64SH3E_MC.TVSG22C4DXQRVSTT&ppt=None&ppn=None&ssid=z324a1n6ww0000001625899367753&otracker=clp_pmu_v2_32%2BInch%2BTVs_1_3.productCard.PMU_V2_Mi%2B4A%2BPRO%2B80%2Bcm%2B%252832%2Binch%2529%2BHD%2BReady%2BLED%2BSmart%2BAndroid%2BTV_television-store_TVSG22C4DXQRVSTT_neo%2Fmerchandising_0&otracker1=clp_pmu_v2_PINNED_neo%2Fmerchandising_32%2BInch%2BTVs_LIST_productCard_cc_1_NA_view-all&cid=TVSG22C4DXQRVSTT\"]\n",
    "len(urls)"
   ]
  },
  {
   "cell_type": "code",
   "execution_count": 4,
   "id": "26eeb66d",
   "metadata": {},
   "outputs": [],
   "source": [
    "from bs4 import BeautifulSoup\n",
    "import requests\n",
    "name = []\n",
    "price = []\n",
    "MRP = []\n",
    "category = []\n",
    "for url in urls:\n",
    "    data = requests.get(url)\n",
    "    soup = BeautifulSoup(data.content,'html.parser')\n",
    "    for i in soup.find_all(\"h1\",class_=[\"yhB1nd\"]):\n",
    "        name.append(i.text)\n",
    "    for i in soup.find_all(\"div\",class_=[\"_30jeq3 _16Jk6d\"]):\n",
    "        price.append(i.text)\n",
    "    for i in soup.find_all(\"div\",class_=[\"_3I9_wc _2p6lqe\"]):\n",
    "        MRP.append(i.text)\n",
    "    w = []\n",
    "    for i in soup.find_all(\"a\",class_=[\"_2whKao\"]):\n",
    "        w.append(i.text)\n",
    "    category.append(w[len(w)-1])\n"
   ]
  },
  {
   "cell_type": "code",
   "execution_count": 6,
   "id": "40f74364",
   "metadata": {},
   "outputs": [
    {
     "data": {
      "text/plain": [
       "['Mi 4A PRO 80 cm (32 inch) HD Ready LED Smart Android TV',\n",
       " 'realme 80 cm (32 inch) HD Ready LED Smart Android TV\\xa0\\xa0(TV 32)',\n",
       " 'SAMSUNG 80 cm (32 inch) HD Ready LED Smart TV\\xa0\\xa0(UA32T4340AKXXL / UA32T4340BKXXL)',\n",
       " 'LG 80 cm (32 inch) HD Ready LED Smart TV\\xa0\\xa0(32LM565BPTA)',\n",
       " 'Infinix X1 80 cm (32 inch) HD Ready LED Smart Android TV with Eye Care Technology\\xa0\\xa0(32X1)',\n",
       " 'SAMSUNG 80 cm (32 inch) HD Ready LED Smart TV with Voice Search\\xa0\\xa0(UA32TE40FAKBXL)',\n",
       " 'Mi 4A PRO 80 cm (32 inch) HD Ready LED Smart Android TV']"
      ]
     },
     "execution_count": 6,
     "metadata": {},
     "output_type": "execute_result"
    }
   ],
   "source": [
    "name"
   ]
  },
  {
   "cell_type": "code",
   "execution_count": 7,
   "id": "7eb8d38b",
   "metadata": {},
   "outputs": [
    {
     "data": {
      "text/plain": [
       "['₹16,999', '₹16,999', '₹18,290', '₹17,999', '₹15,999', '₹19,240', '₹16,999']"
      ]
     },
     "execution_count": 7,
     "metadata": {},
     "output_type": "execute_result"
    }
   ],
   "source": [
    "price"
   ]
  },
  {
   "cell_type": "code",
   "execution_count": 8,
   "id": "4bb1b0d0",
   "metadata": {},
   "outputs": [
    {
     "data": {
      "text/plain": [
       "['₹19,999', '₹17,999', '₹19,900', '₹21,990', '₹17,999', '₹20,900', '₹19,999']"
      ]
     },
     "execution_count": 8,
     "metadata": {},
     "output_type": "execute_result"
    }
   ],
   "source": [
    "MRP"
   ]
  },
  {
   "cell_type": "code",
   "execution_count": 9,
   "id": "efc35d44",
   "metadata": {},
   "outputs": [
    {
     "data": {
      "text/plain": [
       "['Mi Televisions',\n",
       " 'realme Televisions',\n",
       " 'SAMSUNG Televisions',\n",
       " 'LG Televisions',\n",
       " 'Infinix Televisions',\n",
       " 'SAMSUNG Televisions',\n",
       " 'Mi Televisions']"
      ]
     },
     "execution_count": 9,
     "metadata": {},
     "output_type": "execute_result"
    }
   ],
   "source": [
    "category"
   ]
  },
  {
   "cell_type": "code",
   "execution_count": 10,
   "id": "7ac39532",
   "metadata": {},
   "outputs": [],
   "source": [
    "import pandas as pd\n",
    "Q = pd.DataFrame([name,category,price,MRP]).T\n",
    "Q.columns = [\"Name\",\"category\",\"Offer_Price\",\"MRP\"]"
   ]
  },
  {
   "cell_type": "code",
   "execution_count": 11,
   "id": "8b73f8c4",
   "metadata": {},
   "outputs": [
    {
     "data": {
      "text/html": [
       "<div>\n",
       "<style scoped>\n",
       "    .dataframe tbody tr th:only-of-type {\n",
       "        vertical-align: middle;\n",
       "    }\n",
       "\n",
       "    .dataframe tbody tr th {\n",
       "        vertical-align: top;\n",
       "    }\n",
       "\n",
       "    .dataframe thead th {\n",
       "        text-align: right;\n",
       "    }\n",
       "</style>\n",
       "<table border=\"1\" class=\"dataframe\">\n",
       "  <thead>\n",
       "    <tr style=\"text-align: right;\">\n",
       "      <th></th>\n",
       "      <th>Name</th>\n",
       "      <th>category</th>\n",
       "      <th>Offer_Price</th>\n",
       "      <th>MRP</th>\n",
       "    </tr>\n",
       "  </thead>\n",
       "  <tbody>\n",
       "    <tr>\n",
       "      <th>0</th>\n",
       "      <td>Mi 4A PRO 80 cm (32 inch) HD Ready LED Smart A...</td>\n",
       "      <td>Mi Televisions</td>\n",
       "      <td>₹16,999</td>\n",
       "      <td>₹19,999</td>\n",
       "    </tr>\n",
       "    <tr>\n",
       "      <th>1</th>\n",
       "      <td>realme 80 cm (32 inch) HD Ready LED Smart Andr...</td>\n",
       "      <td>realme Televisions</td>\n",
       "      <td>₹16,999</td>\n",
       "      <td>₹17,999</td>\n",
       "    </tr>\n",
       "    <tr>\n",
       "      <th>2</th>\n",
       "      <td>SAMSUNG 80 cm (32 inch) HD Ready LED Smart TV ...</td>\n",
       "      <td>SAMSUNG Televisions</td>\n",
       "      <td>₹18,290</td>\n",
       "      <td>₹19,900</td>\n",
       "    </tr>\n",
       "    <tr>\n",
       "      <th>3</th>\n",
       "      <td>LG 80 cm (32 inch) HD Ready LED Smart TV  (32L...</td>\n",
       "      <td>LG Televisions</td>\n",
       "      <td>₹17,999</td>\n",
       "      <td>₹21,990</td>\n",
       "    </tr>\n",
       "    <tr>\n",
       "      <th>4</th>\n",
       "      <td>Infinix X1 80 cm (32 inch) HD Ready LED Smart ...</td>\n",
       "      <td>Infinix Televisions</td>\n",
       "      <td>₹15,999</td>\n",
       "      <td>₹17,999</td>\n",
       "    </tr>\n",
       "    <tr>\n",
       "      <th>5</th>\n",
       "      <td>SAMSUNG 80 cm (32 inch) HD Ready LED Smart TV ...</td>\n",
       "      <td>SAMSUNG Televisions</td>\n",
       "      <td>₹19,240</td>\n",
       "      <td>₹20,900</td>\n",
       "    </tr>\n",
       "    <tr>\n",
       "      <th>6</th>\n",
       "      <td>Mi 4A PRO 80 cm (32 inch) HD Ready LED Smart A...</td>\n",
       "      <td>Mi Televisions</td>\n",
       "      <td>₹16,999</td>\n",
       "      <td>₹19,999</td>\n",
       "    </tr>\n",
       "  </tbody>\n",
       "</table>\n",
       "</div>"
      ],
      "text/plain": [
       "                                                Name             category  \\\n",
       "0  Mi 4A PRO 80 cm (32 inch) HD Ready LED Smart A...       Mi Televisions   \n",
       "1  realme 80 cm (32 inch) HD Ready LED Smart Andr...   realme Televisions   \n",
       "2  SAMSUNG 80 cm (32 inch) HD Ready LED Smart TV ...  SAMSUNG Televisions   \n",
       "3  LG 80 cm (32 inch) HD Ready LED Smart TV  (32L...       LG Televisions   \n",
       "4  Infinix X1 80 cm (32 inch) HD Ready LED Smart ...  Infinix Televisions   \n",
       "5  SAMSUNG 80 cm (32 inch) HD Ready LED Smart TV ...  SAMSUNG Televisions   \n",
       "6  Mi 4A PRO 80 cm (32 inch) HD Ready LED Smart A...       Mi Televisions   \n",
       "\n",
       "  Offer_Price      MRP  \n",
       "0     ₹16,999  ₹19,999  \n",
       "1     ₹16,999  ₹17,999  \n",
       "2     ₹18,290  ₹19,900  \n",
       "3     ₹17,999  ₹21,990  \n",
       "4     ₹15,999  ₹17,999  \n",
       "5     ₹19,240  ₹20,900  \n",
       "6     ₹16,999  ₹19,999  "
      ]
     },
     "execution_count": 11,
     "metadata": {},
     "output_type": "execute_result"
    }
   ],
   "source": [
    "Q"
   ]
  },
  {
   "cell_type": "code",
   "execution_count": null,
   "id": "63e013b9",
   "metadata": {},
   "outputs": [],
   "source": []
  }
 ],
 "metadata": {
  "kernelspec": {
   "display_name": "Python 3 (ipykernel)",
   "language": "python",
   "name": "python3"
  },
  "language_info": {
   "codemirror_mode": {
    "name": "ipython",
    "version": 3
   },
   "file_extension": ".py",
   "mimetype": "text/x-python",
   "name": "python",
   "nbconvert_exporter": "python",
   "pygments_lexer": "ipython3",
   "version": "3.8.11"
  }
 },
 "nbformat": 4,
 "nbformat_minor": 5
}
